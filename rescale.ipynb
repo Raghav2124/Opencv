{
 "cells": [
  {
   "cell_type": "code",
   "execution_count": 6,
   "id": "bbf6a568",
   "metadata": {},
   "outputs": [
    {
     "name": "stdout",
     "output_type": "stream",
     "text": [
      "Error: Failed to load image.\n"
     ]
    },
    {
     "data": {
      "text/plain": [
       "-1"
      ]
     },
     "execution_count": 6,
     "metadata": {},
     "output_type": "execute_result"
    }
   ],
   "source": [
    "#this is done so that we reduce compuational stress on our computers\n",
    "\n",
    "import cv2 as cv\n",
    "def rescaleFrame(frame, scale=0.75):\n",
    "    # Check if the frame is None\n",
    "    if frame is None:\n",
    "        print(\"Error: Failed to load image.\")\n",
    "        return None\n",
    "    \n",
    "    width = int(frame.shape[1] * scale)\n",
    "    height = int(frame.shape[0] * scale)\n",
    "    dimensions = (width, height)\n",
    "    return cv.resize(frame, dimensions, interpolation=cv.INTER_AREA)\n",
    "\n",
    "# Read the image\n",
    "img = cv.imread('Photos/cat_large2.jpg')\n",
    "\n",
    "# Check if the image was successfully loaded\n",
    "if img is not None:\n",
    "    rescaled_img = rescaleFrame(img)\n",
    "\n",
    "    # Check if the rescaled image is not None\n",
    "    if rescaled_img is not None:\n",
    "        cv.imshow('Cat Rescaled', rescaled_img)\n",
    "        cv.waitKey(0)\n",
    "else:\n",
    "    print(\"Error: Failed to load image.\")\n",
    "cv.waitKey(0)"
   ]
  },
  {
   "cell_type": "code",
   "execution_count": null,
   "id": "dd49d9a6",
   "metadata": {},
   "outputs": [],
   "source": [
    "capture=cv.VideoCapture('Videos/dog.mp4')\n",
    "while True:\n",
    "    isTrue,frame=capture.read()\n",
    "    cv.imshow('Video',frame)\n",
    "    if cv.waitKey(20) & 0xFF==ord('d'):\n",
    "        break\n",
    "capture.release()\n",
    "cv.destroyAllWindows()"
   ]
  }
 ],
 "metadata": {
  "kernelspec": {
   "display_name": "Python 3 (ipykernel)",
   "language": "python",
   "name": "python3"
  },
  "language_info": {
   "codemirror_mode": {
    "name": "ipython",
    "version": 3
   },
   "file_extension": ".py",
   "mimetype": "text/x-python",
   "name": "python",
   "nbconvert_exporter": "python",
   "pygments_lexer": "ipython3",
   "version": "3.11.5"
  }
 },
 "nbformat": 4,
 "nbformat_minor": 5
}
